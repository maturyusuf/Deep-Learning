{
  "nbformat": 4,
  "nbformat_minor": 0,
  "metadata": {
    "colab": {
      "provenance": []
    },
    "kernelspec": {
      "name": "python3",
      "display_name": "Python 3"
    },
    "language_info": {
      "name": "python"
    }
  },
  "cells": [
    {
      "cell_type": "code",
      "execution_count": 1,
      "metadata": {
        "id": "RStCTxUqcxhx"
      },
      "outputs": [],
      "source": [
        "import tensorflow as tf\n",
        "import numpy as np\n",
        "import matplotlib.pyplot as plt\n",
        "\n",
        "from tensorflow.keras.layers import Input, SimpleRNN, Dense\n",
        "from tensorflow.keras.models import Model\n",
        "from tensorflow.keras.optimizers import SGD, Adam"
      ]
    },
    {
      "cell_type": "markdown",
      "source": [
        "# Thing we need to memorize:\n",
        "N : Number of Samples\n",
        "\n",
        "T : Sequence length\n",
        "\n",
        "D : Number of Input Features\n",
        "\n",
        "M : Number of Hidden Units\n",
        "\n",
        "K : Number of Output Units\n",
        "\n",
        "Note: K can be more than 1 for regression problem.For example it might be a multidimensional regression (like predicting latitude & longitude).So K>1 doesn't always mean that it's a classification problem."
      ],
      "metadata": {
        "id": "sHixl3B-Yqq3"
      }
    },
    {
      "cell_type": "code",
      "source": [
        "N = 1\n",
        "T = 10\n",
        "D = 3\n",
        "K = 2\n",
        "X = np.random.randn(N, T, D)\n",
        "\n",
        "X"
      ],
      "metadata": {
        "colab": {
          "base_uri": "https://localhost:8080/",
          "height": 0
        },
        "id": "rTVJZOwDYmxu",
        "outputId": "e50f2c9d-aa3a-4962-95c6-650b7fcf79d8"
      },
      "execution_count": 38,
      "outputs": [
        {
          "output_type": "execute_result",
          "data": {
            "text/plain": [
              "array([[[-0.65743571,  0.06261316,  2.30478886],\n",
              "        [-1.47074087,  0.09752981,  1.34757659],\n",
              "        [-0.70496749,  0.94331793, -0.7078629 ],\n",
              "        [-1.20547946, -0.84801168,  0.11094414],\n",
              "        [ 1.05520462,  0.90278798, -0.67210647],\n",
              "        [ 0.04262162,  0.92023336, -1.14153366],\n",
              "        [-1.60084256,  0.29722629,  0.61521752],\n",
              "        [ 0.14962499, -0.69196894, -1.1627263 ],\n",
              "        [-0.02739404,  0.15243377, -1.18359365],\n",
              "        [ 2.0353315 ,  0.05343955, -1.39577274]]])"
            ]
          },
          "metadata": {},
          "execution_count": 38
        }
      ]
    },
    {
      "cell_type": "code",
      "source": [
        "M = 5 # Number of hidden units\n",
        "\n",
        "i = Input(shape = (T,D))\n",
        "x = SimpleRNN(M)(i)   # by defult, RNN activation function is \"tanh\"\n",
        "x = Dense(K)(x)  # for it's regression, we don't use any activation\n",
        "\n",
        "model = Model(i, x)\n",
        "\n",
        "model.compile(\n",
        "    loss=\"mse\",\n",
        "    optimizer=Adam(learning_rate=0.1), \n",
        ")"
      ],
      "metadata": {
        "id": "pRJ4-MqtZRbF"
      },
      "execution_count": 39,
      "outputs": []
    },
    {
      "cell_type": "code",
      "source": [
        "model.summary()"
      ],
      "metadata": {
        "colab": {
          "base_uri": "https://localhost:8080/",
          "height": 0
        },
        "id": "MBEkfhv1a5Ng",
        "outputId": "cee317b5-5f59-48af-cb7c-4bc0f90808e6"
      },
      "execution_count": 40,
      "outputs": [
        {
          "output_type": "stream",
          "name": "stdout",
          "text": [
            "Model: \"model_3\"\n",
            "_________________________________________________________________\n",
            " Layer (type)                Output Shape              Param #   \n",
            "=================================================================\n",
            " input_4 (InputLayer)        [(None, 10, 3)]           0         \n",
            "                                                                 \n",
            " simple_rnn_3 (SimpleRNN)    (None, 5)                 45        \n",
            "                                                                 \n",
            " dense_3 (Dense)             (None, 2)                 12        \n",
            "                                                                 \n",
            "=================================================================\n",
            "Total params: 57\n",
            "Trainable params: 57\n",
            "Non-trainable params: 0\n",
            "_________________________________________________________________\n"
          ]
        }
      ]
    },
    {
      "cell_type": "code",
      "source": [
        "Yhat = model.predict(X)\n",
        "print(Yhat)\n",
        "print(Yhat.shape)\n",
        "# Since we have output K value as 2, it will return us 2 outputs in an array.So our Yhat shape will be (1,2) \n",
        "# Let's see if we can replicate this output"
      ],
      "metadata": {
        "colab": {
          "base_uri": "https://localhost:8080/",
          "height": 0
        },
        "id": "wBSd8agmbBW9",
        "outputId": "dbda793e-6fca-4012-e70d-414d92d65bfd"
      },
      "execution_count": 41,
      "outputs": [
        {
          "output_type": "stream",
          "name": "stdout",
          "text": [
            "1/1 [==============================] - 0s 136ms/step\n",
            "[[ 0.19519468 -1.15848   ]]\n",
            "(1, 2)\n"
          ]
        }
      ]
    },
    {
      "cell_type": "code",
      "source": [
        "# Weights\n",
        "print(model.layers)  # We have 3 layers: Input , Rnn, Dense(Output)\n",
        "\n",
        "#Let's see our RNN layer's weights\n",
        "print(\n",
        "    model.layers[1].get_weights()\n",
        "    )\n",
        "# it gave us 3 weights "
      ],
      "metadata": {
        "colab": {
          "base_uri": "https://localhost:8080/",
          "height": 0
        },
        "id": "8734Is7fbJhx",
        "outputId": "76c901d7-6c4d-4c35-becc-4bbbeabe0dde"
      },
      "execution_count": 42,
      "outputs": [
        {
          "output_type": "stream",
          "name": "stdout",
          "text": [
            "[<keras.engine.input_layer.InputLayer object at 0x7fd8e56ed360>, <keras.layers.rnn.simple_rnn.SimpleRNN object at 0x7fd8e56edc00>, <keras.layers.core.dense.Dense object at 0x7fd8f0329750>]\n",
            "[array([[ 0.47612423, -0.03806829, -0.5027425 , -0.22551346, -0.7348896 ],\n",
            "       [ 0.01746541,  0.03113955, -0.78103095, -0.16630036, -0.03100222],\n",
            "       [ 0.06622034,  0.81962675,  0.48380178, -0.4241633 , -0.37538385]],\n",
            "      dtype=float32), array([[ 0.31518042,  0.21609305,  0.33874065,  0.85756296, -0.06169206],\n",
            "       [-0.51879835,  0.7194001 ,  0.20803568, -0.10152966, -0.39965564],\n",
            "       [ 0.47911096, -0.19680247,  0.34863043, -0.31560996, -0.71454084],\n",
            "       [-0.606075  , -0.59837914,  0.48711663,  0.17527023, -0.08132207],\n",
            "       [-0.18610655, -0.19742969, -0.69509   ,  0.35206285, -0.5650554 ]],\n",
            "      dtype=float32), array([0., 0., 0., 0., 0.], dtype=float32)]\n"
          ]
        }
      ]
    },
    {
      "cell_type": "code",
      "source": [
        "# Checking their weights to see if it matches \n",
        "# First output is input -> hidden : D x M\n",
        "# Second output is hidden -> hidden :  M x M\n",
        "# Third output is bias term [vector of length M] : M\n",
        "\n",
        "a, b, c = model.layers[1].get_weights()\n",
        "print(f\"Shape of A: {a.shape}   Shape of B: {b.shape}   Shape of C:{c.shape}\")"
      ],
      "metadata": {
        "colab": {
          "base_uri": "https://localhost:8080/",
          "height": 0
        },
        "id": "SbMphdJQbLOl",
        "outputId": "85237bce-ec2e-417a-8881-f4eccfc1f1a4"
      },
      "execution_count": 43,
      "outputs": [
        {
          "output_type": "stream",
          "name": "stdout",
          "text": [
            "Shape of A: (3, 5)   Shape of B: (5, 5)   Shape of C:(5,)\n"
          ]
        }
      ]
    },
    {
      "cell_type": "code",
      "source": [
        "Wx, Wh, bh = model.layers[1].get_weights() # RNN Weights\n",
        "Wo, bo = model.layers[2].get_weights() # Output layer's weights"
      ],
      "metadata": {
        "id": "ujZbWpW5ew8a"
      },
      "execution_count": 44,
      "outputs": []
    },
    {
      "cell_type": "code",
      "source": [
        "print(X.shape) \n",
        "#X has only 1 sample.So we have to extract it from the first dimension\n",
        "print(X[0])\n",
        "print(X[0].shape)"
      ],
      "metadata": {
        "colab": {
          "base_uri": "https://localhost:8080/",
          "height": 0
        },
        "id": "BvZ_eEvCldyL",
        "outputId": "1e3e39a0-a2b9-420c-c993-1841fd582d0c"
      },
      "execution_count": 49,
      "outputs": [
        {
          "output_type": "stream",
          "name": "stdout",
          "text": [
            "(1, 10, 3)\n",
            "[[-0.65743571  0.06261316  2.30478886]\n",
            " [-1.47074087  0.09752981  1.34757659]\n",
            " [-0.70496749  0.94331793 -0.7078629 ]\n",
            " [-1.20547946 -0.84801168  0.11094414]\n",
            " [ 1.05520462  0.90278798 -0.67210647]\n",
            " [ 0.04262162  0.92023336 -1.14153366]\n",
            " [-1.60084256  0.29722629  0.61521752]\n",
            " [ 0.14962499 -0.69196894 -1.1627263 ]\n",
            " [-0.02739404  0.15243377 -1.18359365]\n",
            " [ 2.0353315   0.05343955 -1.39577274]]\n",
            "(10, 3)\n"
          ]
        }
      ]
    },
    {
      "cell_type": "code",
      "source": [
        "h_last = np.zeros(M)\n",
        "Yhats = []\n",
        "                        #X has only 1 sample.So we have to extract it from the first dimension\n",
        "x = X[0]                # x.shape=(10,3)\n",
        "for t in range(T):\n",
        "  h = np.tanh(x[t].dot(Wx) + h_last.dot(Wh) + bh)\n",
        "  y = h.dot(Wo) + bo         \n",
        "  Yhats.append(y)\n",
        "  h_last = h    \n",
        "\n",
        "# Let's print the final output\n",
        "print(Yhats[-1])"
      ],
      "metadata": {
        "colab": {
          "base_uri": "https://localhost:8080/",
          "height": 0
        },
        "id": "f_fqv3WYgcdj",
        "outputId": "cc7df625-5107-45b8-dd8a-a87edf528366"
      },
      "execution_count": 50,
      "outputs": [
        {
          "output_type": "stream",
          "name": "stdout",
          "text": [
            "[ 0.19519453 -1.15848006]\n"
          ]
        }
      ]
    },
    {
      "cell_type": "code",
      "source": [
        "# Now let's compare two values to see if we get it right using CNN by hand\n",
        "# CNN model: [[ 0.19519468 -1.15848   ]]\n",
        "# CNN by hand: [ 0.19519453 -1.15848006]\n",
        "# :)"
      ],
      "metadata": {
        "id": "QY-u1hfUjXzw"
      },
      "execution_count": 51,
      "outputs": []
    },
    {
      "cell_type": "markdown",
      "source": [
        "# Let's see what happens if we have multiple samples"
      ],
      "metadata": {
        "id": "dJWEVFTgmmAn"
      }
    },
    {
      "cell_type": "code",
      "source": [
        "N = 3\n",
        "T = 10\n",
        "D = 3\n",
        "K = 2\n",
        "X = np.random.randn(N, T, D)\n",
        "\n",
        "X"
      ],
      "metadata": {
        "colab": {
          "base_uri": "https://localhost:8080/",
          "height": 0
        },
        "outputId": "0adfdbc4-9bb1-4275-9fa2-50c966f1b5a6",
        "id": "BfsqSB4Emy0n"
      },
      "execution_count": 52,
      "outputs": [
        {
          "output_type": "execute_result",
          "data": {
            "text/plain": [
              "array([[[-3.43366980e-02, -7.33101831e-01, -1.76265733e+00],\n",
              "        [ 2.58046522e-01, -1.29257791e-01, -4.22432809e-01],\n",
              "        [-7.74991060e-01, -3.18559289e-01,  6.08223643e-01],\n",
              "        [-9.53358923e-01, -9.92842516e-02,  1.18159310e+00],\n",
              "        [ 2.88956442e-01, -2.12619199e+00,  9.61480896e-01],\n",
              "        [ 8.32612665e-04,  1.35463220e+00, -8.91001352e-01],\n",
              "        [ 4.32643042e-01,  8.73607735e-01,  9.95925001e-01],\n",
              "        [ 4.03689221e-01, -9.89846212e-01, -2.44236348e-01],\n",
              "        [ 1.42479075e-01, -1.58384636e+00, -1.34948878e+00],\n",
              "        [-6.94475676e-01,  1.18375062e+00, -4.27060233e-01]],\n",
              "\n",
              "       [[ 1.10456827e+00,  1.49650441e+00,  6.04608147e-01],\n",
              "        [ 3.15554423e-01, -1.48905318e+00,  3.47419855e-01],\n",
              "        [-7.67496744e-01, -5.10920113e-01, -3.81827688e-01],\n",
              "        [-1.27676622e+00, -2.87279349e-01, -1.11079563e-01],\n",
              "        [-3.49028288e-01, -1.13600008e+00, -4.61107452e-01],\n",
              "        [-1.69454012e-01,  1.28233189e+00, -1.28497187e+00],\n",
              "        [-2.43666972e+00, -4.67948446e-01,  2.63917553e+00],\n",
              "        [ 6.94151619e-01,  4.53885716e-01, -3.06169494e-01],\n",
              "        [-3.52415419e-02, -2.27261030e-01,  1.54445297e+00],\n",
              "        [-1.16837230e+00,  4.36069224e-01, -1.59058000e+00]],\n",
              "\n",
              "       [[ 2.48879576e-01, -3.26914110e-01,  9.12379729e-02],\n",
              "        [ 9.10713984e-03, -1.14054097e+00, -1.90022579e+00],\n",
              "        [ 8.30393612e-01, -4.04510936e-01, -1.28279071e+00],\n",
              "        [-5.77664600e-01, -1.34952081e-01,  5.96556705e-01],\n",
              "        [ 2.35621623e-01, -1.27666080e-01,  1.32140145e-01],\n",
              "        [-1.55081204e+00, -1.04759217e+00, -1.79738013e+00],\n",
              "        [ 3.15202739e+00,  4.98719583e-01,  2.87496790e-01],\n",
              "        [ 2.59843613e+00, -3.88165930e-01,  1.39265235e+00],\n",
              "        [ 1.14580071e+00, -4.93253031e-01,  1.45243820e+00],\n",
              "        [-5.87148875e-01, -5.83209125e-02, -8.69789236e-02]]])"
            ]
          },
          "metadata": {},
          "execution_count": 52
        }
      ]
    },
    {
      "cell_type": "code",
      "source": [
        "M = 5 # Number of hidden units\n",
        "\n",
        "i = Input(shape = (T,D))\n",
        "x = SimpleRNN(M)(i)   # by defult, RNN activation function is \"tanh\"\n",
        "x = Dense(K)(x)  # for it's regression, we don't use any activation\n",
        "\n",
        "model = Model(i, x)\n",
        "\n",
        "model.compile(\n",
        "    loss=\"mse\",\n",
        "    optimizer=Adam(learning_rate=0.1), \n",
        ")"
      ],
      "metadata": {
        "id": "ptWSFaxwmy0p"
      },
      "execution_count": 53,
      "outputs": []
    },
    {
      "cell_type": "code",
      "source": [
        "model.summary()"
      ],
      "metadata": {
        "colab": {
          "base_uri": "https://localhost:8080/",
          "height": 0
        },
        "outputId": "b7ea1c9e-5ec0-4ea8-e0f1-9adf0818227f",
        "id": "ru04BcWkmy0p"
      },
      "execution_count": 54,
      "outputs": [
        {
          "output_type": "stream",
          "name": "stdout",
          "text": [
            "Model: \"model_4\"\n",
            "_________________________________________________________________\n",
            " Layer (type)                Output Shape              Param #   \n",
            "=================================================================\n",
            " input_5 (InputLayer)        [(None, 10, 3)]           0         \n",
            "                                                                 \n",
            " simple_rnn_4 (SimpleRNN)    (None, 5)                 45        \n",
            "                                                                 \n",
            " dense_4 (Dense)             (None, 2)                 12        \n",
            "                                                                 \n",
            "=================================================================\n",
            "Total params: 57\n",
            "Trainable params: 57\n",
            "Non-trainable params: 0\n",
            "_________________________________________________________________\n"
          ]
        }
      ]
    },
    {
      "cell_type": "code",
      "source": [
        "Yhat = model.predict(X)\n",
        "print(Yhat)\n",
        "print(Yhat.shape)\n",
        "# Since we have output K value as 2 and we have 3 samples, it returns (3, 2) as prediction\n",
        "# Let's see if we can replicate this output"
      ],
      "metadata": {
        "colab": {
          "base_uri": "https://localhost:8080/",
          "height": 0
        },
        "outputId": "53abd8ca-85b4-4288-df2c-575e862adaac",
        "id": "ZigFLBiWmy0p"
      },
      "execution_count": 55,
      "outputs": [
        {
          "output_type": "stream",
          "name": "stdout",
          "text": [
            "1/1 [==============================] - 0s 233ms/step\n",
            "[[-0.2906301  -0.52476156]\n",
            " [ 0.11569875 -0.01596417]\n",
            " [ 0.74665457  0.01347425]]\n",
            "(3, 2)\n"
          ]
        }
      ]
    },
    {
      "cell_type": "code",
      "source": [
        "# Weights\n",
        "print(model.layers)  # We have 3 layers: Input , Rnn, Dense(Output)\n",
        "\n",
        "#Let's see our RNN layer's weights\n",
        "print(\n",
        "    model.layers[1].get_weights()\n",
        "    )\n",
        "# it gave us 3 weights "
      ],
      "metadata": {
        "colab": {
          "base_uri": "https://localhost:8080/",
          "height": 0
        },
        "outputId": "d3b95786-b4c2-46c0-db31-e36112fcfc0a",
        "id": "PPGZCYQgmy0p"
      },
      "execution_count": 56,
      "outputs": [
        {
          "output_type": "stream",
          "name": "stdout",
          "text": [
            "[<keras.engine.input_layer.InputLayer object at 0x7fd8e5635210>, <keras.layers.rnn.simple_rnn.SimpleRNN object at 0x7fd8e5635db0>, <keras.layers.core.dense.Dense object at 0x7fd8e5637b80>]\n",
            "[array([[ 0.25955623, -0.24849886, -0.67392355, -0.18745673,  0.56701416],\n",
            "       [ 0.61479336, -0.18606699, -0.81998175,  0.03805548, -0.27226388],\n",
            "       [ 0.35964972, -0.0975073 , -0.31581432, -0.09368545,  0.14148206]],\n",
            "      dtype=float32), array([[-0.34136176, -0.482692  , -0.21747243, -0.429175  ,  0.64729834],\n",
            "       [-0.173593  , -0.02289428,  0.7202057 , -0.61318886, -0.27321154],\n",
            "       [ 0.24835353,  0.20202789,  0.58430916,  0.30529636,  0.68035454],\n",
            "       [ 0.76526767, -0.62767065,  0.05431936, -0.08399855, -0.10192448],\n",
            "       [-0.45389813, -0.57593286,  0.2994024 ,  0.58270633, -0.18190505]],\n",
            "      dtype=float32), array([0., 0., 0., 0., 0.], dtype=float32)]\n"
          ]
        }
      ]
    },
    {
      "cell_type": "code",
      "source": [
        "# Checking their weights to see if it matches \n",
        "# First output is input -> hidden : D x M\n",
        "# Second output is hidden -> hidden :  M x M\n",
        "# Third output is bias term [vector of length M] : M\n",
        "\n",
        "a, b, c = model.layers[1].get_weights()\n",
        "print(f\"Shape of A (which is Wx): {a.shape}   Shape of B (Which is Wh): {b.shape}   Shape of C (Which is bh):{c.shape}\")"
      ],
      "metadata": {
        "colab": {
          "base_uri": "https://localhost:8080/",
          "height": 0
        },
        "outputId": "ac27f046-0d9c-4a9c-8099-21cfeb8ad853",
        "id": "NcwyvuS3my0q"
      },
      "execution_count": 59,
      "outputs": [
        {
          "output_type": "stream",
          "name": "stdout",
          "text": [
            "Shape of A (which is Wx): (3, 5)   Shape of B (Which is Wh): (5, 5)   Shape of C (Which is bh):(5,)\n"
          ]
        }
      ]
    },
    {
      "cell_type": "code",
      "source": [
        "Wx, Wh, bh = model.layers[1].get_weights() # RNN Weights\n",
        "Wo, bo = model.layers[2].get_weights() # Output layer's weights"
      ],
      "metadata": {
        "id": "4sXcpslXmy0q"
      },
      "execution_count": 58,
      "outputs": []
    },
    {
      "cell_type": "code",
      "source": [
        "print(X.shape) \n",
        "#X has only 1 sample.So we have to extract it from the first dimension\n",
        "print(X[0])\n",
        "print(X[0].shape)"
      ],
      "metadata": {
        "colab": {
          "base_uri": "https://localhost:8080/",
          "height": 0
        },
        "outputId": "eb1e8375-3a91-4db0-fe3b-13dd50ef8753",
        "id": "BswkjHlxmy0q"
      },
      "execution_count": 60,
      "outputs": [
        {
          "output_type": "stream",
          "name": "stdout",
          "text": [
            "(3, 10, 3)\n",
            "[[-3.43366980e-02 -7.33101831e-01 -1.76265733e+00]\n",
            " [ 2.58046522e-01 -1.29257791e-01 -4.22432809e-01]\n",
            " [-7.74991060e-01 -3.18559289e-01  6.08223643e-01]\n",
            " [-9.53358923e-01 -9.92842516e-02  1.18159310e+00]\n",
            " [ 2.88956442e-01 -2.12619199e+00  9.61480896e-01]\n",
            " [ 8.32612665e-04  1.35463220e+00 -8.91001352e-01]\n",
            " [ 4.32643042e-01  8.73607735e-01  9.95925001e-01]\n",
            " [ 4.03689221e-01 -9.89846212e-01 -2.44236348e-01]\n",
            " [ 1.42479075e-01 -1.58384636e+00 -1.34948878e+00]\n",
            " [-6.94475676e-01  1.18375062e+00 -4.27060233e-01]]\n",
            "(10, 3)\n"
          ]
        }
      ]
    },
    {
      "cell_type": "code",
      "source": [],
      "metadata": {
        "id": "9ZzHEtB4nnt6"
      },
      "execution_count": null,
      "outputs": []
    },
    {
      "cell_type": "code",
      "source": [
        "h_last = np.zeros(M)\n",
        "Yhats = []\n",
        "                        \n",
        "          \n",
        "for t in range(T):\n",
        "  h = np.tanh(X[0][t].dot(Wx) + h_last.dot(Wh) + bh)\n",
        "  y = h.dot(Wo) + bo         \n",
        "  Yhats.append(y)\n",
        "  h_last = h    \n",
        "\n",
        "# Let's print the final output\n",
        "print(Yhats[-1])"
      ],
      "metadata": {
        "colab": {
          "base_uri": "https://localhost:8080/",
          "height": 0
        },
        "outputId": "459cc4d8-f853-4c36-e9aa-cbc7fb8f884b",
        "id": "-it65STLmy0q"
      },
      "execution_count": 71,
      "outputs": [
        {
          "output_type": "stream",
          "name": "stdout",
          "text": [
            "[-0.29063011 -0.5247616 ]\n"
          ]
        }
      ]
    },
    {
      "cell_type": "code",
      "source": [
        "h_last = np.zeros(M)\n",
        "Yhats = []\n",
        "                        \n",
        "       \n",
        "for t in range(T):\n",
        "  h = np.tanh(X[1][t].dot(Wx) + h_last.dot(Wh) + bh)\n",
        "  y = h.dot(Wo) + bo         \n",
        "  Yhats.append(y)\n",
        "  h_last = h    \n",
        "\n",
        "# Let's print the final output\n",
        "print(Yhats[-1])"
      ],
      "metadata": {
        "colab": {
          "base_uri": "https://localhost:8080/",
          "height": 0
        },
        "id": "IB04zn0xoT4V",
        "outputId": "ce224a0a-d7ee-40c5-a825-96f0a14509b1"
      },
      "execution_count": 82,
      "outputs": [
        {
          "output_type": "stream",
          "name": "stdout",
          "text": [
            "[ 0.11569876 -0.01596417]\n"
          ]
        }
      ]
    },
    {
      "cell_type": "code",
      "source": [
        "h_last = np.zeros(M)\n",
        "Yhats = []\n",
        "        \n",
        "for t in range(T):\n",
        "  h = np.tanh(X[2][t].dot(Wx) + h_last.dot(Wh) + bh)\n",
        "  y = h.dot(Wo) + bo         \n",
        "  Yhats.append(y)\n",
        "  h_last = h    \n",
        "\n",
        "# Let's print the final output\n",
        "print(Yhats[-1])"
      ],
      "metadata": {
        "colab": {
          "base_uri": "https://localhost:8080/",
          "height": 0
        },
        "id": "dzBitFLLoZth",
        "outputId": "19f14c1f-4d17-4ecd-d8a8-12e894833e40"
      },
      "execution_count": 73,
      "outputs": [
        {
          "output_type": "stream",
          "name": "stdout",
          "text": [
            "[0.74665465 0.0134742 ]\n"
          ]
        }
      ]
    },
    {
      "cell_type": "code",
      "source": [
        "[[-0.2906301  -0.52476156]\n",
        " [ 0.11569875 -0.01596417]\n",
        " [ 0.74665457  0.01347425]]"
      ],
      "metadata": {
        "id": "GosGGWWYpbMS"
      },
      "execution_count": null,
      "outputs": []
    },
    {
      "cell_type": "code",
      "source": [
        "new_y=[]\n",
        "\n",
        "for x_N in range(X.shape[0]):  \n",
        "  x_N_list=[]\n",
        "  h_last = np.zeros(M)\n",
        "  for t in range(T):\n",
        "    h = np.tanh(X[x_N][t].dot(Wx) + h_last.dot(Wh) + bh)\n",
        "    y = h.dot(Wo) + bo         \n",
        "    x_N_list.append(y)\n",
        "    h_last = h    \n",
        "  \n",
        "  new_y.append(x_N_list[-1])"
      ],
      "metadata": {
        "id": "4KQ8NHfBp_-t"
      },
      "execution_count": 84,
      "outputs": []
    },
    {
      "cell_type": "code",
      "source": [
        "new_y"
      ],
      "metadata": {
        "colab": {
          "base_uri": "https://localhost:8080/",
          "height": 0
        },
        "id": "5rlNyCuvqjTY",
        "outputId": "ed04b110-15ce-4bbb-b28d-5e059e209dc7"
      },
      "execution_count": 85,
      "outputs": [
        {
          "output_type": "execute_result",
          "data": {
            "text/plain": [
              "[array([-0.29063011, -0.5247616 ]),\n",
              " array([ 0.11569876, -0.01596417]),\n",
              " array([0.74665465, 0.0134742 ])]"
            ]
          },
          "metadata": {},
          "execution_count": 85
        }
      ]
    },
    {
      "cell_type": "code",
      "source": [
        "# Our values match !"
      ],
      "metadata": {
        "id": "dqkIwny0qmSc"
      },
      "execution_count": 86,
      "outputs": []
    },
    {
      "cell_type": "code",
      "source": [],
      "metadata": {
        "id": "KiUmqkxWsH2i"
      },
      "execution_count": null,
      "outputs": []
    }
  ]
}