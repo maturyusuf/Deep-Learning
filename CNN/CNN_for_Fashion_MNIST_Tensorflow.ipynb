{
  "nbformat": 4,
  "nbformat_minor": 0,
  "metadata": {
    "colab": {
      "provenance": []
    },
    "kernelspec": {
      "name": "python3",
      "display_name": "Python 3"
    },
    "language_info": {
      "name": "python"
    }
  },
  "cells": [
    {
      "cell_type": "code",
      "execution_count": null,
      "metadata": {
        "id": "BinE_EfFfAhG"
      },
      "outputs": [],
      "source": [
        "import tensorflow as tf\n",
        "import matplotlib.pyplot as plt\n",
        "import numpy as np\n",
        "from tensorflow.keras.layers import Dense, Conv2D, Input, Flatten, Dropout\n",
        "from tensorflow.keras.models import Model"
      ]
    },
    {
      "cell_type": "code",
      "source": [
        "fashion_mnist = tf.keras.datasets.fashion_mnist\n",
        "(X_train, y_train),(X_test,y_test) = fashion_mnist.load_data()\n",
        "\n",
        "X_train, X_test = X_train/255.0, X_test/255.0\n",
        "\n",
        "print(f\"X_train shape:{X_train.shape}\")\n",
        "print(f\"y_train shape = {y_train.shape}\")"
      ],
      "metadata": {
        "colab": {
          "base_uri": "https://localhost:8080/"
        },
        "id": "vDEwbwIOq4_A",
        "outputId": "de72cd42-8fe3-4e59-c7dd-b9b56ef3f8d5"
      },
      "execution_count": null,
      "outputs": [
        {
          "output_type": "stream",
          "name": "stdout",
          "text": [
            "Downloading data from https://storage.googleapis.com/tensorflow/tf-keras-datasets/train-labels-idx1-ubyte.gz\n",
            "29515/29515 [==============================] - 0s 0us/step\n",
            "Downloading data from https://storage.googleapis.com/tensorflow/tf-keras-datasets/train-images-idx3-ubyte.gz\n",
            "26421880/26421880 [==============================] - 0s 0us/step\n",
            "Downloading data from https://storage.googleapis.com/tensorflow/tf-keras-datasets/t10k-labels-idx1-ubyte.gz\n",
            "5148/5148 [==============================] - 0s 0us/step\n",
            "Downloading data from https://storage.googleapis.com/tensorflow/tf-keras-datasets/t10k-images-idx3-ubyte.gz\n",
            "4422102/4422102 [==============================] - 0s 0us/step\n",
            "X_train shape:(60000, 28, 28)\n",
            "y_train shape = (60000,)\n"
          ]
        }
      ]
    },
    {
      "cell_type": "code",
      "source": [
        "X_train = np.expand_dims(X_train,-1)  #Convolution layers except SxNxDxC, WHİCH MEANS 4 Dimension.This function increases the dimension\n",
        "X_test = np.expand_dims(X_test,-1) "
      ],
      "metadata": {
        "id": "ShVN1-essnrO"
      },
      "execution_count": null,
      "outputs": []
    },
    {
      "cell_type": "code",
      "source": [
        "print(f\"X_train shape:{X_train.shape}\")"
      ],
      "metadata": {
        "colab": {
          "base_uri": "https://localhost:8080/"
        },
        "id": "yZb6nqbTt7R1",
        "outputId": "ee06e566-5425-4291-c014-18cfbe15ebea"
      },
      "execution_count": null,
      "outputs": [
        {
          "output_type": "stream",
          "name": "stdout",
          "text": [
            "X_train shape:(60000, 28, 28, 1)\n"
          ]
        }
      ]
    },
    {
      "cell_type": "code",
      "source": [
        "X_train[0].shape"
      ],
      "metadata": {
        "colab": {
          "base_uri": "https://localhost:8080/"
        },
        "id": "2tYJSh8swWdg",
        "outputId": "ef7287ac-1d83-4c98-d897-033c93b75e43"
      },
      "execution_count": null,
      "outputs": [
        {
          "output_type": "execute_result",
          "data": {
            "text/plain": [
              "(28, 28, 1)"
            ]
          },
          "metadata": {},
          "execution_count": 5
        }
      ]
    },
    {
      "cell_type": "code",
      "source": [
        "K = len(set(y_train)) # In order to get the class names for softmax layer,which is the last layer where we actually classifiy data\n",
        "# set () function gets us the unique values of the given data \n",
        "K"
      ],
      "metadata": {
        "colab": {
          "base_uri": "https://localhost:8080/"
        },
        "id": "GjB6KqnbuKB7",
        "outputId": "6c2e24e1-f9c4-4528-8cab-be1ae00a90d0"
      },
      "execution_count": null,
      "outputs": [
        {
          "output_type": "execute_result",
          "data": {
            "text/plain": [
              "10"
            ]
          },
          "metadata": {},
          "execution_count": 6
        }
      ]
    },
    {
      "cell_type": "code",
      "source": [
        "fashion_mnist_elements = [\n",
        "    \"T-shirt/top\",\n",
        "    \"Trouser\",\n",
        "    \"Pullover\",\n",
        "    \"Dress\",\n",
        "    \"Coat\",\n",
        "    \"Sandal\",\n",
        "    \"Shirt\",\n",
        "    \"Sneaker\",\n",
        "    \"Bag\",\n",
        "    \"Ankle boot\"\n",
        "]"
      ],
      "metadata": {
        "id": "By_VWvfH_Iqb"
      },
      "execution_count": 34,
      "outputs": []
    },
    {
      "cell_type": "code",
      "source": [
        "i = Input(shape=X_train[0].shape) # requires dimensions of a single image ,in other words; dimensions without the first one. Ex. (6000,28,28,1) => it takes (28,28,1)  \n",
        "x = Conv2D(filters=32, kernel_size=(3, 3), strides=2, activation=\"relu\")(i)\n",
        "x = Conv2D(64,(3, 3), strides=2, activation=\"relu\")(x)\n",
        "x = Conv2D(128,(3, 3), strides=2, activation=\"relu\")(x)\n",
        "x = Flatten()(x)\n",
        "x = Dropout(0.2)(x)\n",
        "x = Dense(512,activation=\"relu\")(x)\n",
        "x = Dropout(0.2)(x)\n",
        "x = Dense(K,activation=\"softmax\")(x)\n",
        "\n",
        "model = Model(i,x)\n"
      ],
      "metadata": {
        "id": "sYa8ldtut9rP"
      },
      "execution_count": null,
      "outputs": []
    },
    {
      "cell_type": "code",
      "source": [
        "model.compile(optimizer=\"adam\",\n",
        "                loss=\"sparse_categorical_crossentropy\",\n",
        "                metrics=[\"accuracy\"])\n",
        "\n",
        "r = model.fit(X_train,y_train ,validation_data=(X_test,y_test),epochs=15)"
      ],
      "metadata": {
        "colab": {
          "base_uri": "https://localhost:8080/"
        },
        "id": "Ua5Ct6GSwHuX",
        "outputId": "0ed084eb-a238-4cad-f506-6e3227455c1b"
      },
      "execution_count": null,
      "outputs": [
        {
          "output_type": "stream",
          "name": "stdout",
          "text": [
            "Epoch 1/15\n",
            "1875/1875 [==============================] - 53s 25ms/step - loss: 0.5207 - accuracy: 0.8078 - val_loss: 0.4011 - val_accuracy: 0.8479\n",
            "Epoch 2/15\n",
            "1875/1875 [==============================] - 40s 21ms/step - loss: 0.3633 - accuracy: 0.8642 - val_loss: 0.3492 - val_accuracy: 0.8702\n",
            "Epoch 3/15\n",
            "1875/1875 [==============================] - 40s 21ms/step - loss: 0.3150 - accuracy: 0.8817 - val_loss: 0.3181 - val_accuracy: 0.8853\n",
            "Epoch 4/15\n",
            "1875/1875 [==============================] - 41s 22ms/step - loss: 0.2849 - accuracy: 0.8921 - val_loss: 0.3147 - val_accuracy: 0.8860\n",
            "Epoch 5/15\n",
            "1875/1875 [==============================] - 40s 21ms/step - loss: 0.2564 - accuracy: 0.9038 - val_loss: 0.3149 - val_accuracy: 0.8864\n",
            "Epoch 6/15\n",
            "1875/1875 [==============================] - 40s 21ms/step - loss: 0.2339 - accuracy: 0.9114 - val_loss: 0.3038 - val_accuracy: 0.8893\n",
            "Epoch 7/15\n",
            "1875/1875 [==============================] - 40s 21ms/step - loss: 0.2183 - accuracy: 0.9169 - val_loss: 0.2872 - val_accuracy: 0.8961\n",
            "Epoch 8/15\n",
            "1875/1875 [==============================] - 39s 21ms/step - loss: 0.2004 - accuracy: 0.9230 - val_loss: 0.3011 - val_accuracy: 0.8964\n",
            "Epoch 9/15\n",
            "1875/1875 [==============================] - 40s 21ms/step - loss: 0.1868 - accuracy: 0.9289 - val_loss: 0.3113 - val_accuracy: 0.8981\n",
            "Epoch 10/15\n",
            "1875/1875 [==============================] - 40s 22ms/step - loss: 0.1752 - accuracy: 0.9327 - val_loss: 0.3181 - val_accuracy: 0.9007\n",
            "Epoch 11/15\n",
            "1875/1875 [==============================] - 40s 21ms/step - loss: 0.1625 - accuracy: 0.9375 - val_loss: 0.3305 - val_accuracy: 0.8974\n",
            "Epoch 12/15\n",
            "1875/1875 [==============================] - 39s 21ms/step - loss: 0.1525 - accuracy: 0.9408 - val_loss: 0.3308 - val_accuracy: 0.8999\n",
            "Epoch 13/15\n",
            "1875/1875 [==============================] - 40s 21ms/step - loss: 0.1446 - accuracy: 0.9445 - val_loss: 0.3513 - val_accuracy: 0.8972\n",
            "Epoch 14/15\n",
            "1875/1875 [==============================] - 40s 21ms/step - loss: 0.1357 - accuracy: 0.9481 - val_loss: 0.3518 - val_accuracy: 0.9015\n",
            "Epoch 15/15\n",
            "1875/1875 [==============================] - 40s 21ms/step - loss: 0.1284 - accuracy: 0.9501 - val_loss: 0.3791 - val_accuracy: 0.8991\n"
          ]
        }
      ]
    },
    {
      "cell_type": "code",
      "source": [
        "model.summary()"
      ],
      "metadata": {
        "colab": {
          "base_uri": "https://localhost:8080/"
        },
        "id": "8UWPgaODxO14",
        "outputId": "d5705cc3-b8a6-4a29-9f97-b229cbf9815f"
      },
      "execution_count": null,
      "outputs": [
        {
          "output_type": "stream",
          "name": "stdout",
          "text": [
            "Model: \"model\"\n",
            "_________________________________________________________________\n",
            " Layer (type)                Output Shape              Param #   \n",
            "=================================================================\n",
            " input_1 (InputLayer)        [(None, 28, 28, 1)]       0         \n",
            "                                                                 \n",
            " conv2d (Conv2D)             (None, 13, 13, 32)        320       \n",
            "                                                                 \n",
            " conv2d_1 (Conv2D)           (None, 6, 6, 64)          18496     \n",
            "                                                                 \n",
            " conv2d_2 (Conv2D)           (None, 2, 2, 128)         73856     \n",
            "                                                                 \n",
            " flatten (Flatten)           (None, 512)               0         \n",
            "                                                                 \n",
            " dropout (Dropout)           (None, 512)               0         \n",
            "                                                                 \n",
            " dense (Dense)               (None, 512)               262656    \n",
            "                                                                 \n",
            " dropout_1 (Dropout)         (None, 512)               0         \n",
            "                                                                 \n",
            " dense_1 (Dense)             (None, 10)                5130      \n",
            "                                                                 \n",
            "=================================================================\n",
            "Total params: 360,458\n",
            "Trainable params: 360,458\n",
            "Non-trainable params: 0\n",
            "_________________________________________________________________\n"
          ]
        }
      ]
    },
    {
      "cell_type": "code",
      "source": [
        "plt.plot(r.history[\"accuracy\"],label=\"Accuracy\")\n",
        "plt.plot(r.history[\"val_accuracy\"],label=\"Value Accuracy (Test)\")\n",
        "plt.legend()"
      ],
      "metadata": {
        "colab": {
          "base_uri": "https://localhost:8080/"
        },
        "id": "fAphq1WlzzgU",
        "outputId": "8d5153ad-b5a4-4b6b-e4f1-dc8c5d46ba4d"
      },
      "execution_count": null,
      "outputs": [
        {
          "output_type": "execute_result",
          "data": {
            "text/plain": [
              "<matplotlib.legend.Legend at 0x7f45df9169e0>"
            ]
          },
          "metadata": {},
          "execution_count": 10
        },
        {
          "output_type": "display_data",
          "data": {
            "text/plain": [
              "<Figure size 640x480 with 1 Axes>"
            ],
            "image/png": "[encoded data removed]"
          },
          "metadata": {}
        }
      ]
    },
    {
      "cell_type": "code",
      "source": [
        "p_test=model.predict(X_test).argmax(axis=1) \n",
        "# model.preidct gives 1000 x [output classes] matrix with each column on the same row gives you the probability of the given class.\n",
        "# Argmax function with the parameter of (axis= 1) allows you to pick only maximum values of the same row.So in this case\n",
        "# input becomes 1000 size vector from 1000,10 size matrix\n",
        "\n",
        "print(p_test.shape) # Output is a vector"
      ],
      "metadata": {
        "colab": {
          "base_uri": "https://localhost:8080/"
        },
        "id": "f887D3dv18MD",
        "outputId": "44c7c60a-2c4c-4d61-8396-0613e76bdf50"
      },
      "execution_count": 39,
      "outputs": [
        {
          "output_type": "stream",
          "name": "stdout",
          "text": [
            "313/313 [==============================] - 2s 6ms/step\n",
            "(10000,)\n"
          ]
        }
      ]
    },
    {
      "cell_type": "code",
      "source": [
        "misclassified_idx = np.where(p_test != y_test)[0]\n",
        "i = np.random.choice(misclassified_idx)\n",
        "plt.imshow(X_test[i].reshape(28,28),cmap=\"gray\") # imshow requires NxD image but our images are NxDx1 so we use reshape\n",
        "plt.title(f\"True is {fashion_mnist_elements[y_test[i]]} but it's given {fashion_mnist_elements[p_test[i]]}\")"
      ],
      "metadata": {
        "colab": {
          "base_uri": "https://localhost:8080/",
          "height": 470
        },
        "id": "KSkw3zUb1RVm",
        "outputId": "c35e0daa-09a4-42ce-f84d-68c8428f7caa"
      },
      "execution_count": 42,
      "outputs": [
        {
          "output_type": "execute_result",
          "data": {
            "text/plain": [
              "Text(0.5, 1.0, \"True is T-shirt/top but it's given Pullover\")"
            ]
          },
          "metadata": {},
          "execution_count": 42
        },
        {
          "output_type": "display_data",
          "data": {
            "text/plain": [
              "<Figure size 640x480 with 1 Axes>"
            ],
            "image/png": "[encoded data removed]"
          },
          "metadata": {}
        }
      ]
    },
    {
      "cell_type": "code",
      "source": [],
      "metadata": {
        "id": "zYbEBt_L1uFx",
        "colab": {
          "base_uri": "https://localhost:8080/"
        },
        "outputId": "475b7c14-998f-468d-b67a-3d90da7a6031"
      },
      "execution_count": 43,
      "outputs": [
        {
          "output_type": "execute_result",
          "data": {
            "text/plain": [
              "0"
            ]
          },
          "metadata": {},
          "execution_count": 43
        }
      ]
    },
    {
      "cell_type": "code",
      "source": [],
      "metadata": {
        "id": "scwLPXQQ_kww"
      },
      "execution_count": null,
      "outputs": []
    }
  ]
}